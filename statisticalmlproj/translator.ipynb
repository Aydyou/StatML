{
 "cells": [
  {
   "cell_type": "code",
   "execution_count": null,
   "metadata": {},
   "outputs": [],
   "source": []
  },
  {
   "cell_type": "code",
   "execution_count": 1,
   "metadata": {},
   "outputs": [
    {
     "name": "stderr",
     "output_type": "stream",
     "text": [
      "Using cache found in C:\\Users\\Aydin/.cache\\torch\\hub\\pytorch_fairseq_master\n",
      "Using cache found in C:\\Users\\Aydin/.cache\\torch\\hub\\pytorch_fairseq_master\n"
     ]
    },
    {
     "data": {
      "text/plain": [
       "['Hello']"
      ]
     },
     "execution_count": 1,
     "metadata": {},
     "output_type": "execute_result"
    }
   ],
   "source": [
    "\n",
    "import torch\n",
    "\n",
    "# List available models\n",
    "torch.hub.list('pytorch/fairseq')  # [..., 'transformer.wmt16.en-de', ... ]\n",
    "\n",
    "de2en = torch.hub.load('pytorch/fairseq', 'transformer.wmt19.de-en.single_model', tokenizer='moses', bpe='fastbpe')\n",
    "# Load a transformer trained on WMT'16 En-De\n",
    "#en2de = torch.hub.load('pytorch/fairseq', 'transformer.wmt16.en-de', tokenizer='moses', bpe='subword_nmt')\n",
    "#en2de.eval()  # disable dropout\n",
    "de2en.eval()\n",
    "# The underlying model is available under the *models* attribute\n",
    "#assert isinstance(en2de.models[0], fairseq.models.transformer.TransformerModel)\n",
    "\n",
    "\n",
    "# Move model to GPU for faster translation\n",
    "de2en.cpu()\n",
    "\n",
    "\n",
    "\n",
    "\n",
    "# Batched translation\n",
    "de2en.translate(['Hallo'])"
   ]
  },
  {
   "cell_type": "code",
   "execution_count": 2,
   "metadata": {},
   "outputs": [
    {
     "name": "stdout",
     "output_type": "stream",
     "text": [
      " * Serving Flask app \"__main__\" (lazy loading)\n",
      " * Environment: production\n",
      "   WARNING: This is a development server. Do not use it in a production deployment.\n",
      "   Use a production WSGI server instead.\n",
      " * Debug mode: off\n"
     ]
    },
    {
     "name": "stderr",
     "output_type": "stream",
     "text": [
      " * Running on http://127.0.0.1:3000/ (Press CTRL+C to quit)\n",
      "127.0.0.1 - - [13/Mar/2020 16:10:54] \"GET / HTTP/1.1\" 200 -\n",
      "127.0.0.1 - - [13/Mar/2020 16:10:54] \"GET /custom.css HTTP/1.1\" 404 -\n",
      "127.0.0.1 - - [13/Mar/2020 16:10:56] \"POST / HTTP/1.1\" 200 -\n",
      "127.0.0.1 - - [13/Mar/2020 16:10:56] \"GET /custom.css HTTP/1.1\" 404 -\n",
      "127.0.0.1 - - [13/Mar/2020 16:11:01] \"POST / HTTP/1.1\" 200 -\n",
      "127.0.0.1 - - [13/Mar/2020 16:11:01] \"GET /custom.css HTTP/1.1\" 404 -\n",
      "127.0.0.1 - - [13/Mar/2020 16:11:07] \"POST / HTTP/1.1\" 200 -\n",
      "127.0.0.1 - - [13/Mar/2020 16:11:07] \"GET /custom.css HTTP/1.1\" 404 -\n",
      "127.0.0.1 - - [13/Mar/2020 16:12:06] \"POST / HTTP/1.1\" 200 -\n",
      "127.0.0.1 - - [13/Mar/2020 16:12:06] \"GET /custom.css HTTP/1.1\" 404 -\n",
      "127.0.0.1 - - [13/Mar/2020 16:12:47] \"POST / HTTP/1.1\" 200 -\n",
      "127.0.0.1 - - [13/Mar/2020 16:12:48] \"GET /custom.css HTTP/1.1\" 404 -\n"
     ]
    }
   ],
   "source": [
    "from flask import Flask, request, render_template\n",
    "import requests\n",
    "import torch\n",
    "\n",
    "url = 'http://localhost:3000/predict'\n",
    "\n",
    "app = Flask(__name__, template_folder=\"templates\")\n",
    "\n",
    "# Load the model\n",
    "\n",
    "@app.route('/', methods=['GET','POST'])\n",
    "def home():\n",
    "    if request.method == 'POST':\n",
    "        data = request.form.get('text1')\n",
    "        answer=de2en.translate(data)\n",
    "       \n",
    "        \n",
    "        return render_template('demo2.html', sentiment=answer)\n",
    "      \n",
    "           \n",
    "            \n",
    "    return render_template('demo2.html', sentiment='')\n",
    "        \n",
    "        \n",
    "    \n",
    "if __name__ == '__main__':\n",
    "    app.run(port=3000, debug=False)"
   ]
  },
  {
   "cell_type": "code",
   "execution_count": null,
   "metadata": {},
   "outputs": [],
   "source": []
  }
 ],
 "metadata": {
  "kernelspec": {
   "display_name": "Python 3",
   "language": "python",
   "name": "python3"
  },
  "language_info": {
   "codemirror_mode": {
    "name": "ipython",
    "version": 3
   },
   "file_extension": ".py",
   "mimetype": "text/x-python",
   "name": "python",
   "nbconvert_exporter": "python",
   "pygments_lexer": "ipython3",
   "version": "3.7.4"
  }
 },
 "nbformat": 4,
 "nbformat_minor": 2
}
